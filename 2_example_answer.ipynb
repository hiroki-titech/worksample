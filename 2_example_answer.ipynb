{
 "cells": [
  {
   "cell_type": "code",
   "execution_count": 1,
   "metadata": {},
   "outputs": [
    {
     "name": "stdout",
     "output_type": "stream",
     "text": [
      "厚さ： 703687441.77664メートル\n"
     ]
    },
    {
     "data": {
      "text/plain": [
       "'\\n回答例:厚さ： 703687441.77664メートル\\n\\nとんでもない長さですね!!!\\n'"
      ]
     },
     "execution_count": 1,
     "metadata": {},
     "output_type": "execute_result"
    }
   ],
   "source": [
    "#問題１\n",
    "\"\"\"\n",
    "紙を1回折った時の厚さを計算するコード\n",
    "\"\"\"\n",
    "\n",
    "THICKNESS = 0.00008\n",
    "#(厚さ)　= (THICKNESS) × 2×2×...×2←(2が43個なのでFOLDCOUNTを以下のように定義しておく。)\n",
    "FOLDCOUNT = 2 ** 43 #先にべき乗の定数を計算しておくと見やすいし、ミスが減ります。\n",
    "\n",
    "folded_thickness = THICKNESS * FOLDCOUNT\n",
    "\n",
    "print(\"厚さ： {}メートル\".format(folded_thickness))\n",
    "\n",
    "\"\"\"\n",
    "回答例:厚さ： 703687441.77664メートル\n",
    "\n",
    "とんでもない長さですね!!!\n",
    "\"\"\""
   ]
  },
  {
   "cell_type": "code",
   "execution_count": 2,
   "metadata": {},
   "outputs": [
    {
     "name": "stdout",
     "output_type": "stream",
     "text": [
      "厚さ： 70.37万キロメートル\n"
     ]
    },
    {
     "data": {
      "text/plain": [
       "'\\n回答例:厚さ： 70.37万キロメートル\\n\\n月までの距離は約38万キロなので、余裕で届いちゃいますね！\\n'"
      ]
     },
     "execution_count": 2,
     "metadata": {},
     "output_type": "execute_result"
    }
   ],
   "source": [
    "#問題2\n",
    "# メートルを万キロメートルに変換して小数点以下2桁で表示する\n",
    "#{:.2f}は小数点以下2桁で表示するための書式設定です。詳細はPython 書式設定　で検索してみてください。\n",
    "print(\"厚さ： {:.2f}万キロメートル\".format(folded_thickness/10000000))\n",
    "\n",
    "\"\"\"\n",
    "回答例:厚さ： 70.37万キロメートル\n",
    "\n",
    "月までの距離は約38万キロなので、余裕で届いちゃいますね！\n",
    "\"\"\"\n"
   ]
  },
  {
   "cell_type": "code",
   "execution_count": 3,
   "metadata": {},
   "outputs": [
    {
     "name": "stdout",
     "output_type": "stream",
     "text": [
      "703687441.77664\n"
     ]
    }
   ],
   "source": [
    "#問題3\n",
    "\"\"\"\n",
    "for文を使用した計算方法\n",
    "べき乗計算である、2の43乗は2を43回かけるということなので\n",
    "for文を43回まわして2を43回かけると、同じ計算結果になります。\n",
    "\"\"\"\n",
    "\n",
    "THICKNESS = 0.00008\n",
    "for _ in range(43):\n",
    "    THICKNESS = THICKNESS * 2\n",
    "    \n",
    "print(THICKNESS)"
   ]
  },
  {
   "cell_type": "code",
   "execution_count": 4,
   "metadata": {},
   "outputs": [
    {
     "name": "stdout",
     "output_type": "stream",
     "text": [
      "first_time : 0.00011110305786132812[s]\n",
      "second_time : 0.00019884109497070312[s]\n"
     ]
    },
    {
     "data": {
      "text/plain": [
       "'\\n二つの計算時間を比較しても、どちらも小数点4桁目くらいの桁数あたりで終了しています。\\nしかし、織る回数が増えていくと前者では一回の計算で済むけれど、後者では織る回数分だけコンピュータが計算するため\\n前者の方が計算速度は相対的に速くなります。\\nためしに43回という数字を変えて試してみてください！\\n\\n'"
      ]
     },
     "execution_count": 4,
     "metadata": {},
     "output_type": "execute_result"
    }
   ],
   "source": [
    "#問題4\n",
    "\"\"\"\n",
    "計算時間の比較\n",
    "\"\"\"\n",
    "\n",
    "import time\n",
    "start = time.time()\n",
    "#以下、前者の計算方法\n",
    "THICKNESS = 0.00008\n",
    "FOLDCOUNT = 2 ** 43\n",
    "\n",
    "folded_thickness = THICKNESS * FOLDCOUNT\n",
    "elapsed_time = time.time() - start\n",
    "print(\"first_time : {}[s]\".format(elapsed_time))\n",
    "\n",
    "\n",
    "start = time.time()\n",
    "#以下、後者の計算方法\n",
    "THICKNESS = 0.00008\n",
    "for _ in range(43):\n",
    "    THICKNESS = THICKNESS * 2\n",
    "    \n",
    "elapsed_time = time.time() - start #time.time()で得られるのは時刻という点に注意！\n",
    "print(\"second_time : {}[s]\".format(elapsed_time))\n",
    "\n",
    "\"\"\"\n",
    "二つの計算時間を比較しても、どちらも小数点4桁目くらいの桁数あたりで終了しています。\n",
    "しかし、織る回数が増えていくと前者では一回の計算で済むけれど、後者では織る回数分だけコンピュータが計算するため\n",
    "前者の方が計算速度は相対的に速くなります。\n",
    "ためしに43回という数字を変えて試してみてください！\n",
    "\n",
    "\"\"\""
   ]
  },
  {
   "cell_type": "code",
   "execution_count": 5,
   "metadata": {},
   "outputs": [
    {
     "data": {
      "text/plain": [
       "'\\n指数関数が急激に大きくなる様子がよくわかりますね！\\n'"
      ]
     },
     "execution_count": 5,
     "metadata": {},
     "output_type": "execute_result"
    },
    {
     "data": {
      "image/png": "[encoded data removed]",
      "text/plain": [
       "<Figure size 432x288 with 1 Axes>"
      ]
     },
     "metadata": {
      "needs_background": "light"
     },
     "output_type": "display_data"
    }
   ],
   "source": [
    "#問題5\n",
    "THICKNESS_list = []\n",
    "THICKNESS = 0.00008\n",
    "THICKNESS_list.append(THICKNESS)\n",
    "for _ in range(43):\n",
    "    THICKNESS = THICKNESS * 2\n",
    "    THICKNESS_list.append(THICKNESS)  # THICKNESSを更新するごとにリストに格納していく\n",
    "    \n",
    "\"\"\"\n",
    "あっているか不安な時は、print(THICKNESS_list[43])として、リストの最後の値が前の計算結果と合致しているか確認してみるといいかもしれないです。\n",
    "\"\"\"\n",
    "\n",
    "#問題6\n",
    "\"\"\"\n",
    "グラフを表示する。\n",
    "matplotlibの基本的なコマンドについてはこのサイト(https://qiita.com/nkay/items/d1eb91e33b9d6469ef51)や公式ドキュメントをみるといいです！\n",
    "\"\"\"\n",
    "import matplotlib.pyplot as plt\n",
    "%matplotlib inline\n",
    "\n",
    "plt.title(\"thickness of folded paper\")\n",
    "plt.xlabel(\"number of folds\")\n",
    "plt.ylabel(\"thickness[m]\")\n",
    "plt.plot(THICKNESS_list) \n",
    "\n",
    "\"\"\"\n",
    "指数関数が急激に大きくなる様子がよくわかりますね！\n",
    "\"\"\"\n"
   ]
  },
  {
   "cell_type": "code",
   "execution_count": 6,
   "metadata": {},
   "outputs": [
    {
     "data": {
      "text/plain": [
       "[<matplotlib.lines.Line2D at 0x10930a110>]"
      ]
     },
     "execution_count": 6,
     "metadata": {},
     "output_type": "execute_result"
    },
    {
     "data": {
      "image/png": "[encoded data removed]",
      "text/plain": [
       "<Figure size 432x288 with 1 Axes>"
      ]
     },
     "metadata": {
      "needs_background": "light"
     },
     "output_type": "display_data"
    }
   ],
   "source": [
    "#問題7\n",
    "\"\"\"\n",
    "グラフのカスタマイズをしていきます。\n",
    "見やすいグラフを作ることは、誰かに何かを説明したりするときにとても大切なことです！\n",
    "いい分析ができても見る人にそれが伝わらなければ分析の意味がなくなってしまいます。\n",
    "誰にでも一目で理解できるようなグラフを描けるように心がけましょう！\n",
    "\"\"\"\n",
    "\n",
    "#一個目\n",
    "plt.title(\"thickness of folded paper\")\n",
    "plt.xlabel(\"number of folds\")\n",
    "plt.ylabel(\"thickness[m]\")\n",
    "plt.plot(THICKNESS_list, marker = \"o\") #マーカーを追加して織った場所がどこか見やすくしてみます\n",
    "\n"
   ]
  },
  {
   "cell_type": "code",
   "execution_count": 7,
   "metadata": {},
   "outputs": [
    {
     "data": {
      "text/plain": [
       "[<matplotlib.lines.Line2D at 0x10936fc90>]"
      ]
     },
     "execution_count": 7,
     "metadata": {},
     "output_type": "execute_result"
    },
    {
     "data": {
      "image/png": "[encoded data removed]",
      "text/plain": [
       "<Figure size 432x288 with 1 Axes>"
      ]
     },
     "metadata": {
      "needs_background": "light"
     },
     "output_type": "display_data"
    }
   ],
   "source": [
    "#二個目\n",
    "plt.title(\"thickness of folded paper\")\n",
    "plt.xlabel(\"number of folds\")\n",
    "plt.ylabel(\"thickness[m]\")\n",
    "plt.grid(True) #グリッドを追加して具体的な数値を見やすくしました。\n",
    "plt.plot(THICKNESS_list) \n"
   ]
  },
  {
   "cell_type": "code",
   "execution_count": 8,
   "metadata": {},
   "outputs": [
    {
     "data": {
      "text/plain": [
       "[<matplotlib.lines.Line2D at 0x1093e1ed0>]"
      ]
     },
     "execution_count": 8,
     "metadata": {},
     "output_type": "execute_result"
    },
    {
     "data": {
      "image/png": "[encoded data removed]",
      "text/plain": [
       "<Figure size 432x288 with 1 Axes>"
      ]
     },
     "metadata": {
      "needs_background": "light"
     },
     "output_type": "display_data"
    }
   ],
   "source": [
    "#三個目\n",
    "plt.title(\"thickness of folded paper\")\n",
    "plt.xlabel(\"number of folds\")\n",
    "plt.ylabel(\"thickness[m]\")\n",
    "plt.plot(THICKNESS_list, color=\"red\") #色を赤にした方が見やすいかもしれません。"
   ]
  },
  {
   "cell_type": "code",
   "execution_count": 9,
   "metadata": {},
   "outputs": [
    {
     "data": {
      "text/plain": [
       "[<matplotlib.lines.Line2D at 0x10944fa50>]"
      ]
     },
     "execution_count": 9,
     "metadata": {},
     "output_type": "execute_result"
    },
    {
     "data": {
      "image/png": "[encoded data removed]",
      "text/plain": [
       "<Figure size 432x288 with 1 Axes>"
      ]
     },
     "metadata": {
      "needs_background": "light"
     },
     "output_type": "display_data"
    }
   ],
   "source": [
    "#以上をまとめて描画してみる\n",
    "plt.title(\"thickness of folded paper\")\n",
    "plt.xlabel(\"number of folds\")\n",
    "plt.ylabel(\"thickness[m]\")\n",
    "plt.grid(True)\n",
    "plt.plot(THICKNESS_list, color=\"red\", marker=\"o\")\n",
    "\n",
    "#最初のグラフより見やすくなったと思います！！"
   ]
  },
  {
   "cell_type": "code",
   "execution_count": null,
   "metadata": {},
   "outputs": [],
   "source": [
    "#課題の補足として、なぜそれをやるのかを明示した方が受講生はやる意義も明確になるし、モチベーションも上がると思いました。\n",
    "#例えば、課題7でしたら"
   ]
  }
 ],
 "metadata": {
  "kernelspec": {
   "display_name": "Python 3",
   "language": "python",
   "name": "python3"
  },
  "language_info": {
   "codemirror_mode": {
    "name": "ipython",
    "version": 3
   },
   "file_extension": ".py",
   "mimetype": "text/x-python",
   "name": "python",
   "nbconvert_exporter": "python",
   "pygments_lexer": "ipython3",
   "version": "3.7.5"
  }
 },
 "nbformat": 4,
 "nbformat_minor": 4
}
